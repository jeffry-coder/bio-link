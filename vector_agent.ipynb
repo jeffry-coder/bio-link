{
 "cells": [
  {
   "cell_type": "markdown",
   "metadata": {},
   "source": [
    "### Explore Arango knowledge graph"
   ]
  },
  {
   "cell_type": "code",
   "execution_count": null,
   "metadata": {},
   "outputs": [],
   "source": [
    "from arango import ArangoClient\n",
    "from arango_datasets import Datasets\n",
    "import asyncio\n",
    "from dotenv import load_dotenv\n",
    "import os\n",
    "\n",
    "load_dotenv()\n",
    "\n",
    "# Connect to database\n",
    "db = ArangoClient(hosts=os.getenv(\"ARANGO_HOST\")).db(\n",
    "    username=os.getenv(\"ARANGO_USERNAME\"),\n",
    "    password=os.getenv(\"ARANGO_PASSWORD\"),\n",
    "    verify=True,\n",
    ")\n",
    "\n",
    "# Connect to datasets\n",
    "datasets = Datasets(db)\n",
    "\n",
    "# List datasets\n",
    "print(datasets.list_datasets())\n",
    "\n",
    "async def load_dataset(dataset_name):\n",
    "    print(f\"Loading dataset: {dataset_name}\")\n",
    "    datasets.load(dataset_name)\n",
    "    print(f\"Finished loading: {dataset_name}\")\n",
    "\n",
    "async def main():\n",
    "    # Load 3 datasets simultaneously\n",
    "    dataset_names = [\"CVE\", \"OPEN_INTELLIGENCE\"]  # FLIGHTS, SYNTHEA_P100\n",
    "    tasks = [load_dataset(name) for name in dataset_names]\n",
    "    await asyncio.gather(*tasks)\n",
    "\n",
    "await main()"
   ]
  },
  {
   "cell_type": "code",
   "execution_count": 5,
   "metadata": {},
   "outputs": [
    {
     "name": "stdout",
     "output_type": "stream",
     "text": [
      "_graphs/Christmas_Carol\n",
      "_graphs/SYNTHEA_P100\n",
      "_graphs/CVE\n",
      "_graphs/OPEN_INTELLIGENCE\n",
      "_graphs/FLIGHTS\n"
     ]
    }
   ],
   "source": [
    "for graph in db.graphs():\n",
    "    print(graph['id'])"
   ]
  },
  {
   "cell_type": "code",
   "execution_count": 37,
   "metadata": {},
   "outputs": [
    {
     "name": "stderr",
     "output_type": "stream",
     "text": [
      "WARNING:urllib3.connectionpool:Retrying (Retry(total=2, connect=None, read=None, redirect=None, status=None)) after connection broken by 'RemoteDisconnected('Remote end closed connection without response')': /_db/_system/_api/gharial\n"
     ]
    }
   ],
   "source": [
    "from langchain_community.graphs import ArangoGraph\n",
    "from langchain.chains import ArangoGraphQAChain\n",
    "from langchain_openai import ChatOpenAI\n",
    "import json\n",
    "\n",
    "\n",
    "graph = ArangoGraph(db)\n",
    "model = ChatOpenAI(temperature=0, model=\"gpt-4o\")\n",
    "\n",
    "with open('graph_schema.json', 'r') as f:\n",
    "    graph_schema = json.load(f)\n",
    "graph.set_schema(graph_schema)\n",
    "\n",
    "chain = ArangoGraphQAChain.from_llm(\n",
    "    model, graph=graph, \n",
    "    verbose=False, allow_dangerous_requests=True\n",
    ")"
   ]
  },
  {
   "cell_type": "code",
   "execution_count": 7,
   "metadata": {},
   "outputs": [
    {
     "name": "stderr",
     "output_type": "stream",
     "text": [
      "C:\\Users\\louis\\AppData\\Local\\Temp\\ipykernel_13828\\1913240994.py:1: LangChainDeprecationWarning: The method `Chain.run` was deprecated in langchain 0.1.0 and will be removed in 1.0. Use :meth:`~invoke` instead.\n",
      "  response = chain.run(\n"
     ]
    },
    {
     "name": "stdout",
     "output_type": "stream",
     "text": [
      "\n",
      "\n",
      "\u001b[1m> Entering new ArangoGraphQAChain chain...\u001b[0m\n",
      "AQL Query (1):\u001b[32;1m\u001b[1;3m\n",
      "WITH patients, encounters, organizations, medications, organizations_to_encounters, patients_to_encounters, encounters_to_medications\n",
      "FOR org IN organizations\n",
      "  FILTER org.NAME == \"Fitchburg Outpatient Clinic\"\n",
      "  FOR org_enc IN organizations_to_encounters\n",
      "    FILTER org_enc._from == org._id\n",
      "    FOR enc IN encounters\n",
      "      FILTER enc._id == org_enc._to\n",
      "      FOR pat_enc IN patients_to_encounters\n",
      "        FILTER pat_enc._to == enc._id\n",
      "        FOR pat IN patients\n",
      "          FILTER pat._id == pat_enc._from\n",
      "          FOR enc_med IN encounters_to_medications\n",
      "            FILTER enc_med._from == enc._id\n",
      "            FOR med IN medications\n",
      "              FILTER med._id == enc_med._to\n",
      "              RETURN {\n",
      "                patient_id: pat._id,\n",
      "                patient_name: CONCAT(pat.FIRST, \" \", pat.LAST),\n",
      "                medication_description: med.DESCRIPTION\n",
      "              }\n",
      "\u001b[0m\n",
      "AQL Result:\n",
      "\u001b[32;1m\u001b[1;3m[{'patient_id': 'patients/45499c0c-8e0f-084a-1466-101a409ae0d6', 'patient_name': 'David908 Bueno515', 'medication_description': 'aspirin 325 MG Oral Tablet'}, {'patient_id': 'patients/45499c0c-8e0f-084a-1466-101a409ae0d6', 'patient_name': 'David908 Bueno515', 'medication_description': 'nitroglycerin 0.4 MG Sublingual Tablet'}, {'patient_id': 'patients/45499c0c-8e0f-084a-1466-101a409ae0d6', 'patient_name': 'David908 Bueno515', 'medication_description': 'tenecteplase 50 MG Injection'}, {'patient_id': 'patients/45499c0c-8e0f-084a-1466-101a409ae0d6', 'patient_name': 'David908 Bueno515', 'medication_description': 'heparin sodium  porcine 100 UNT/ML Injectable Solution'}, {'patient_id': 'patients/45499c0c-8e0f-084a-1466-101a409ae0d6', 'patient_name': 'David908 Bueno515', 'medication_description': 'ticagrelor 90 MG Oral Tablet'}, {'patient_id': 'patients/45499c0c-8e0f-084a-1466-101a409ae0d6', 'patient_name': 'David908 Bueno515', 'medication_description': 'aspirin 81 MG Oral Tablet'}, {'patient_id': 'patients/45499c0c-8e0f-084a-1466-101a409ae0d6', 'patient_name': 'David908 Bueno515', 'medication_description': '24 HR metoprolol succinate 50 MG Extended Release Oral Tablet'}, {'patient_id': 'patients/45499c0c-8e0f-084a-1466-101a409ae0d6', 'patient_name': 'David908 Bueno515', 'medication_description': 'atorvastatin 20 MG Oral Tablet'}, {'patient_id': 'patients/45499c0c-8e0f-084a-1466-101a409ae0d6', 'patient_name': 'David908 Bueno515', 'medication_description': 'lisinopril 5 MG Oral Tablet'}, {'patient_id': 'patients/45499c0c-8e0f-084a-1466-101a409ae0d6', 'patient_name': 'David908 Bueno515', 'medication_description': 'prasugrel 10 MG Oral Tablet'}]\u001b[0m\n",
      "\n",
      "\u001b[1m> Finished chain.\u001b[0m\n",
      "The patient named David908 Bueno515 had encounters at the Fitchburg Outpatient Clinic where they were prescribed several medications. These medications include aspirin 325 MG Oral Tablet, nitroglycerin 0.4 MG Sublingual Tablet, tenecteplase 50 MG Injection, heparin sodium porcine 100 UNT/ML Injectable Solution, ticagrelor 90 MG Oral Tablet, aspirin 81 MG Oral Tablet, 24 HR metoprolol succinate 50 MG Extended Release Oral Tablet, atorvastatin 20 MG Oral Tablet, lisinopril 5 MG Oral Tablet, and prasugrel 10 MG Oral Tablet.\n"
     ]
    }
   ],
   "source": [
    "response = chain.run(\n",
    "    \"Which patients have had encounters at Fitchburg Outpatient Clinic and were prescribed medications during those visits? write down the medications prescribed to them.\"\n",
    ")\n",
    "print(response)"
   ]
  },
  {
   "cell_type": "code",
   "execution_count": 8,
   "metadata": {},
   "outputs": [
    {
     "name": "stdout",
     "output_type": "stream",
     "text": [
      "\n",
      "\n",
      "\u001b[1m> Entering new ArangoGraphQAChain chain...\u001b[0m\n",
      "AQL Query (1):\u001b[32;1m\u001b[1;3m\n",
      "WITH providers, encounters, conditions, encounters_to_conditions, providers_to_encounters\n",
      "FOR provider IN providers\n",
      "    FOR encounter IN encounters\n",
      "        FILTER encounter.DESCRIPTION == \"Routine pediatric checkup\"\n",
      "        FOR condition IN conditions\n",
      "            FILTER condition.ENCOUNTER == encounter._id\n",
      "            FOR edge IN encounters_to_conditions\n",
      "                FILTER edge._from == encounter._id AND edge._to == condition._id\n",
      "                FOR providerEdge IN providers_to_encounters\n",
      "                    FILTER providerEdge._from == provider._id AND providerEdge._to == encounter._id\n",
      "                    RETURN DISTINCT provider\n",
      "\u001b[0m\n",
      "AQL Result:\n",
      "\u001b[32;1m\u001b[1;3m[]\u001b[0m\n",
      "\n",
      "\u001b[1m> Finished chain.\u001b[0m\n",
      "Summary:\n",
      "\n",
      "There are no providers in the database who have treated patients with a condition diagnosed during a routine pediatric checkup.\n"
     ]
    }
   ],
   "source": [
    "response = chain.run(\n",
    "    \"Find all providers who treated patients with a condition diagnosed during a routine pediatric checkup.\"\n",
    ")\n",
    "print(response)"
   ]
  },
  {
   "cell_type": "markdown",
   "metadata": {},
   "source": [
    "the user means the same thing as \"well child visit\", but that isn't explicitly recorded in the description field. by conducting semantic search it could help enhance retrieval robustness. "
   ]
  },
  {
   "cell_type": "markdown",
   "metadata": {},
   "source": [
    "### Explore FAISS vector store"
   ]
  },
  {
   "cell_type": "code",
   "execution_count": 10,
   "metadata": {},
   "outputs": [],
   "source": [
    "import faiss\n",
    "from langchain_community.docstore.in_memory import InMemoryDocstore\n",
    "from langchain_community.vectorstores import FAISS\n",
    "from langchain_openai import OpenAIEmbeddings\n",
    "\n",
    "embeddings = OpenAIEmbeddings(model=\"text-embedding-3-small\")\n",
    "index = faiss.IndexFlatL2(len(embeddings.embed_query(\"hello world\")))\n",
    "\n",
    "vector_store = FAISS(\n",
    "    embedding_function=embeddings,\n",
    "    index=index,\n",
    "    docstore=InMemoryDocstore(),\n",
    "    index_to_docstore_id={},\n",
    ")"
   ]
  },
  {
   "cell_type": "code",
   "execution_count": 11,
   "metadata": {},
   "outputs": [
    {
     "data": {
      "text/plain": [
       "['1a96e418-019f-4072-b7e0-ea3b51f2670f',\n",
       " '5c3ec557-954a-411a-9b9f-fc87f6ea89f7',\n",
       " 'fd35ad32-d5c2-4a44-b905-8e7738bf160f',\n",
       " '06b11605-7170-4774-8d29-0a25372cee1a',\n",
       " '2530583b-f7ed-4a86-8bee-eef407dfb9ac',\n",
       " '0d05d42b-f098-4354-a46c-3bce85203f57',\n",
       " '964040ec-714e-4b12-ad18-6f70bd7349d3',\n",
       " '68646204-b14f-412e-9bf3-82eb273fa342',\n",
       " 'c0c49ea1-cccb-4298-8bee-7cb91016abb4',\n",
       " '6845e50a-7c72-4b8b-abc4-f4dd5608b87c']"
      ]
     },
     "execution_count": 11,
     "metadata": {},
     "output_type": "execute_result"
    }
   ],
   "source": [
    "from uuid import uuid4\n",
    "from langchain_core.documents import Document\n",
    "\n",
    "document_1 = Document(\n",
    "    page_content=\"I had chocalate chip pancakes and scrambled eggs for breakfast this morning.\",\n",
    "    metadata={\"source\": \"tweet\"},\n",
    ")\n",
    "\n",
    "document_2 = Document(\n",
    "    page_content=\"The weather forecast for tomorrow is cloudy and overcast, with a high of 62 degrees.\",\n",
    "    metadata={\"source\": \"news\"},\n",
    ")\n",
    "\n",
    "document_3 = Document(\n",
    "    page_content=\"Building an exciting new project with LangChain - come check it out!\",\n",
    "    metadata={\"source\": \"tweet\"},\n",
    ")\n",
    "\n",
    "document_4 = Document(\n",
    "    page_content=\"Robbers broke into the city bank and stole $1 million in cash.\",\n",
    "    metadata={\"source\": \"news\"},\n",
    ")\n",
    "\n",
    "document_5 = Document(\n",
    "    page_content=\"Wow! That was an amazing movie. I can't wait to see it again.\",\n",
    "    metadata={\"source\": \"tweet\"},\n",
    ")\n",
    "\n",
    "document_6 = Document(\n",
    "    page_content=\"Is the new iPhone worth the price? Read this review to find out.\",\n",
    "    metadata={\"source\": \"website\"},\n",
    ")\n",
    "\n",
    "document_7 = Document(\n",
    "    page_content=\"The top 10 soccer players in the world right now.\",\n",
    "    metadata={\"source\": \"website\"},\n",
    ")\n",
    "\n",
    "document_8 = Document(\n",
    "    page_content=\"LangGraph is the best framework for building stateful, agentic applications!\",\n",
    "    metadata={\"source\": \"tweet\"},\n",
    ")\n",
    "\n",
    "document_9 = Document(\n",
    "    page_content=\"The stock market is down 500 points today due to fears of a recession.\",\n",
    "    metadata={\"source\": \"news\"},\n",
    ")\n",
    "\n",
    "document_10 = Document(\n",
    "    page_content=\"I have a bad feeling I am going to get deleted :(\",\n",
    "    metadata={\"source\": \"tweet\"},\n",
    ")\n",
    "\n",
    "documents = [\n",
    "    document_1,\n",
    "    document_2,\n",
    "    document_3,\n",
    "    document_4,\n",
    "    document_5,\n",
    "    document_6,\n",
    "    document_7,\n",
    "    document_8,\n",
    "    document_9,\n",
    "    document_10,\n",
    "]\n",
    "uuids = [str(uuid4()) for _ in range(len(documents))]\n",
    "\n",
    "vector_store.add_documents(documents=documents, ids=uuids)"
   ]
  },
  {
   "cell_type": "code",
   "execution_count": 12,
   "metadata": {},
   "outputs": [],
   "source": [
    "vector_store.save_local(\"vector_store\")"
   ]
  },
  {
   "cell_type": "code",
   "execution_count": 13,
   "metadata": {},
   "outputs": [],
   "source": [
    "new_vector_store = FAISS.load_local(\n",
    "    \"vector_store\", embeddings, allow_dangerous_deserialization=True\n",
    ")"
   ]
  },
  {
   "cell_type": "code",
   "execution_count": 14,
   "metadata": {},
   "outputs": [
    {
     "data": {
      "text/plain": [
       "[Document(id='c0c49ea1-cccb-4298-8bee-7cb91016abb4', metadata={'source': 'news'}, page_content='The stock market is down 500 points today due to fears of a recession.'),\n",
       " Document(id='5c3ec557-954a-411a-9b9f-fc87f6ea89f7', metadata={'source': 'news'}, page_content='The weather forecast for tomorrow is cloudy and overcast, with a high of 62 degrees.')]"
      ]
     },
     "execution_count": 14,
     "metadata": {},
     "output_type": "execute_result"
    }
   ],
   "source": [
    "new_vector_store.similarity_search('how is the stock market doing?', k=2)"
   ]
  },
  {
   "cell_type": "markdown",
   "metadata": {},
   "source": [
    "### Ingest node descriptions"
   ]
  },
  {
   "cell_type": "markdown",
   "metadata": {},
   "source": [
    "- embed all description fields\n",
    "- store metadata of node key and collection name\n",
    "- create lang tools for FAISS and Arango\n",
    "- execute simple agent executor and assess solution"
   ]
  },
  {
   "cell_type": "code",
   "execution_count": 16,
   "metadata": {},
   "outputs": [
    {
     "name": "stderr",
     "output_type": "stream",
     "text": [
      "Processing collections:   0%|          | 0/10 [00:00<?, ?it/s]"
     ]
    },
    {
     "name": "stderr",
     "output_type": "stream",
     "text": [
      "Processing collections: 100%|██████████| 10/10 [07:21<00:00, 44.18s/it]\n"
     ]
    }
   ],
   "source": [
    "from tqdm import tqdm\n",
    "\n",
    "collections = [\n",
    "    \"allergies\",\n",
    "    \"careplans\",\n",
    "    \"conditions\",\n",
    "    \"devices\",\n",
    "    \"encounters\",\n",
    "    \"immunizations\",\n",
    "    \"medications\",\n",
    "    \"observations\",\n",
    "    \"procedures\",\n",
    "    \"supplies\",\n",
    "]\n",
    "\n",
    "texts = []\n",
    "metadatas = []\n",
    "\n",
    "for col in tqdm(collections, desc=\"Processing collections\"):\n",
    "    query = f\"\"\"\n",
    "    FOR doc IN {col}\n",
    "      RETURN {{\n",
    "        \"_key\": doc._key,\n",
    "        \"description\": doc.DESCRIPTION,\n",
    "        \"collection\": \"{col}\"\n",
    "      }}\n",
    "    \"\"\"\n",
    "    cursor = db.aql.execute(query)\n",
    "    for doc in cursor:\n",
    "        texts.append(doc[\"description\"])\n",
    "        metadatas.append({\"_key\": doc[\"_key\"], \"collection\": doc[\"collection\"]})"
   ]
  },
  {
   "cell_type": "code",
   "execution_count": 17,
   "metadata": {},
   "outputs": [],
   "source": [
    "documents = []\n",
    "for text, data in zip(texts, metadatas):\n",
    "    documents.append(Document(page_content=text, metadata=data))\n",
    "\n",
    "uuids = [str(uuid4()) for _ in range(len(documents))]"
   ]
  },
  {
   "cell_type": "code",
   "execution_count": 18,
   "metadata": {},
   "outputs": [],
   "source": [
    "vector_store = FAISS(\n",
    "    embedding_function=embeddings,\n",
    "    index=index,\n",
    "    docstore=InMemoryDocstore(),\n",
    "    index_to_docstore_id={},\n",
    ")\n",
    "vector_store.add_documents(documents=documents, ids=uuids)\n",
    "vector_store.save_local(\"synthea_p100_vector_store\")"
   ]
  },
  {
   "cell_type": "code",
   "execution_count": null,
   "metadata": {},
   "outputs": [],
   "source": [
    "vector_store = FAISS.load_local(\n",
    "    \"synthea_p100_vector_store\", embeddings, allow_dangerous_deserialization=True\n",
    ")"
   ]
  },
  {
   "cell_type": "code",
   "execution_count": 25,
   "metadata": {},
   "outputs": [
    {
     "data": {
      "text/plain": [
       "[Document(id='869495ca-d91e-47f0-961a-4cef20a730fe', metadata={'_key': '430b6eab-89af-0188-780c-feeb6c1fa985', 'collection': 'encounters'}, page_content='Well child visit (procedure)'),\n",
       " Document(id='b5e37e27-210a-4b11-ae2b-368e7e44823d', metadata={'_key': '6bf2d2e6-33b3-6916-ca6c-737d32c005bf', 'collection': 'encounters'}, page_content='General examination of patient (procedure)'),\n",
       " Document(id='f0364bd9-e447-45ad-a430-a85c0742d40f', metadata={'_key': 'bd440abe-0a58-fede-e26a-314a29407b90', 'collection': 'encounters'}, page_content='Encounter for problem'),\n",
       " Document(id='b5e61b37-e5cc-40be-9871-8b3379a3eb9f', metadata={'_key': '89880de3-a6f9-c14f-a3b8-5f691aa9f21d', 'collection': 'encounters'}, page_content='General examination of patient (procedure)')]"
      ]
     },
     "execution_count": 25,
     "metadata": {},
     "output_type": "execute_result"
    }
   ],
   "source": [
    "results = vector_store.similarity_search(\n",
    "    \"routine pediatric checkup\", k=4, filter={\"collection\": \"encounters\"}\n",
    ")\n",
    "results"
   ]
  },
  {
   "cell_type": "markdown",
   "metadata": {},
   "source": [
    "### Build agent executor"
   ]
  },
  {
   "cell_type": "markdown",
   "metadata": {},
   "source": [
    "- agent will have two tools: no sequence, free to call\n",
    "- vector search tool can update graph state by writing metadata for graph traversal\n",
    "\n",
    "TOOLKIT:  \n",
    "should we have query decomposition tool?\n",
    "- vector tool: collection and description to match\n",
    "- graph tool: AQL query (not question, why? so agent can call this multiple times to correct any errors)"
   ]
  },
  {
   "cell_type": "code",
   "execution_count": 61,
   "metadata": {},
   "outputs": [],
   "source": [
    "from langchain_core.tools import BaseTool\n",
    "from typing import Type\n",
    "from pydantic import BaseModel, Field\n",
    "import json\n",
    "\n",
    "class VectorSearchSchema(BaseModel):\n",
    "    query: str = Field(..., description=\"The search query to find semantically similar information\")\n",
    "    collection: str = Field(..., description=\"The collection to search in\")\n",
    "\n",
    "class VectorSearchTool(BaseTool):\n",
    "    name: str = \"vector_search\"\n",
    "    description: str = \"Search for semantically similar information in a vector database\"\n",
    "    args_schema: Type[BaseModel] = VectorSearchSchema\n",
    "\n",
    "    def _run(self, query: str, collection: str) -> str:\n",
    "        \"\"\"Run vector search on a specific collection with the given query\"\"\"\n",
    "        try:\n",
    "            results = vector_store.similarity_search(query, k=3, filter={\"collection\": collection})\n",
    "\n",
    "            formatted_results = []\n",
    "            for doc in results:\n",
    "                formatted_results.append(\n",
    "                    {\"content\": doc.page_content, \"metadata\": doc.metadata}\n",
    "                )\n",
    "\n",
    "            return json.dumps(formatted_results, indent=2)\n",
    "        \n",
    "        except Exception as e:\n",
    "            return f\"Vector search failed: {str(e)}\"\n",
    "\n",
    "\n",
    "class GraphTraversalSchema(BaseModel):\n",
    "    aql_query: str = Field(..., description=\"The AQL query to execute on the graph database\")\n",
    "\n",
    "class GraphTraversalTool(BaseTool):\n",
    "    name: str = \"graph_traversal\"\n",
    "    description: str = (\n",
    "        \"Execute AQL queries to traverse the graph and extract structured relationships\"\n",
    "    )\n",
    "    args_schema: Type[BaseModel] = GraphTraversalSchema\n",
    "\n",
    "    def _run(self, aql_query: str) -> str:\n",
    "        \"\"\"Execute an AQL query on ArangoDB\"\"\"\n",
    "        try:\n",
    "            results = graph.query(aql_query)\n",
    "            return json.dumps({\"results\": results}, indent=2)\n",
    "        except Exception as e:\n",
    "            return f\"Graph traversal failed: {str(e)}\"\n",
    "\n",
    "TOOLKIT = [VectorSearchTool(), GraphTraversalTool()]"
   ]
  },
  {
   "cell_type": "code",
   "execution_count": 84,
   "metadata": {},
   "outputs": [],
   "source": [
    "from langchain_core.prompts import (\n",
    "    HumanMessagePromptTemplate,\n",
    "    MessagesPlaceholder,\n",
    "    PromptTemplate,\n",
    "    ChatPromptTemplate,\n",
    ")\n",
    "from langchain_core.messages import SystemMessage\n",
    "\n",
    "with open(r'prompts\\vector_system_prompt.txt', 'r') as f:\n",
    "    SYSTEM_PROMPT = f.read()\n",
    "\n",
    "PROMPTS = [\n",
    "    SystemMessage(content=SYSTEM_PROMPT),\n",
    "    MessagesPlaceholder(variable_name=\"chat_history\", optional=True),\n",
    "    HumanMessagePromptTemplate(\n",
    "        prompt=PromptTemplate(\n",
    "            input_variables=[\"query\", \"graph_schema\"],\n",
    "            template=\"KNOWLEDGE GRAPH SCHEMA: {graph_schema} \\n USER QUERY: {query} \",\n",
    "        )\n",
    "    ),\n",
    "    MessagesPlaceholder(variable_name=\"agent_scratchpad\"),\n",
    "]\n",
    "\n",
    "CHAT_PROMPT = ChatPromptTemplate.from_messages(PROMPTS)"
   ]
  },
  {
   "cell_type": "code",
   "execution_count": 85,
   "metadata": {},
   "outputs": [],
   "source": [
    "from langchain.agents import create_tool_calling_agent\n",
    "from langchain.agents import AgentExecutor\n",
    "\n",
    "\n",
    "agent = create_tool_calling_agent(model, TOOLKIT, CHAT_PROMPT)\n",
    "agent_executor = AgentExecutor(agent=agent, tools=TOOLKIT, verbose=True)"
   ]
  },
  {
   "cell_type": "code",
   "execution_count": 86,
   "metadata": {},
   "outputs": [
    {
     "name": "stdout",
     "output_type": "stream",
     "text": [
      "\n",
      "\n",
      "\u001b[1m> Entering new AgentExecutor chain...\u001b[0m\n",
      "\u001b[32;1m\u001b[1;3m\n",
      "Invoking: `vector_search` with `{'query': 'routine pediatric checkup', 'collection': 'encounters'}`\n",
      "\n",
      "\n",
      "\u001b[0m\u001b[36;1m\u001b[1;3m[\n",
      "  {\n",
      "    \"content\": \"Well child visit (procedure)\",\n",
      "    \"metadata\": {\n",
      "      \"_key\": \"430b6eab-89af-0188-780c-feeb6c1fa985\",\n",
      "      \"collection\": \"encounters\"\n",
      "    }\n",
      "  },\n",
      "  {\n",
      "    \"content\": \"General examination of patient (procedure)\",\n",
      "    \"metadata\": {\n",
      "      \"_key\": \"6bf2d2e6-33b3-6916-ca6c-737d32c005bf\",\n",
      "      \"collection\": \"encounters\"\n",
      "    }\n",
      "  },\n",
      "  {\n",
      "    \"content\": \"Encounter for problem\",\n",
      "    \"metadata\": {\n",
      "      \"_key\": \"bd440abe-0a58-fede-e26a-314a29407b90\",\n",
      "      \"collection\": \"encounters\"\n",
      "    }\n",
      "  }\n",
      "]\u001b[0m\u001b[32;1m\u001b[1;3m\n",
      "Invoking: `graph_traversal` with `{'aql_query': 'FOR enc IN encounters\\n  FILTER enc._key IN [\"430b6eab-89af-0188-780c-feeb6c1fa985\", \"6bf2d2e6-33b3-6916-ca6c-737d32c005bf\", \"bd440abe-0a58-fede-e26a-314a29407b90\"]\\n  FOR cond IN 1..1 OUTBOUND enc encounters_to_conditions\\n    FOR prov IN 1..1 INBOUND enc providers_to_encounters\\n      RETURN DISTINCT {\\n        provider_id: prov._key,\\n        provider_name: prov.NAME,\\n        condition: cond.DESCRIPTION\\n      }'}`\n",
      "\n",
      "\n",
      "\u001b[0m\u001b[33;1m\u001b[1;3mGraph traversal failed: [HTTP 400][ERR 1521] AQL: Error message received from cluster node 'server:PRMR-x55ifnpc': collection not known to traversal: 'conditions'. please add 'WITH conditions' as the first line in your AQL [node #14: TraversalNode] [node #13: TraversalNode] [node #7: CalculationNode] [node #8: CollectNode] [node #12: GatherNode] [node #9: ReturnNode] (while executing)\u001b[0m\u001b[32;1m\u001b[1;3m\n",
      "Invoking: `graph_traversal` with `{'aql_query': 'WITH conditions, providers\\nFOR enc IN encounters\\n  FILTER enc._key IN [\"430b6eab-89af-0188-780c-feeb6c1fa985\", \"6bf2d2e6-33b3-6916-ca6c-737d32c005bf\", \"bd440abe-0a58-fede-e26a-314a29407b90\"]\\n  FOR cond IN 1..1 OUTBOUND enc encounters_to_conditions\\n    FOR prov IN 1..1 INBOUND enc providers_to_encounters\\n      RETURN DISTINCT {\\n        provider_id: prov._key,\\n        provider_name: prov.NAME,\\n        condition: cond.DESCRIPTION\\n      }'}`\n",
      "\n",
      "\n",
      "\u001b[0m\u001b[33;1m\u001b[1;3m{\n",
      "  \"results\": [\n",
      "    {\n",
      "      \"provider_id\": \"ecc5880c-faf9-3b5c-87fe-ed3e1d8736fa\",\n",
      "      \"provider_name\": \"Danelle47 Ondricka197\",\n",
      "      \"condition\": \"Full-time employment (finding)\"\n",
      "    }\n",
      "  ]\n",
      "}\u001b[0m\u001b[32;1m\u001b[1;3mThe provider who treated patients with a condition diagnosed during a routine pediatric checkup is:\n",
      "\n",
      "- **Provider Name:** Danelle47 Ondricka197\n",
      "- **Condition Diagnosed:** Full-time employment (finding)\n",
      "\n",
      "This information was retrieved by first identifying encounters related to routine pediatric checkups and then traversing the graph to find the associated conditions and providers.\u001b[0m\n",
      "\n",
      "\u001b[1m> Finished chain.\u001b[0m\n"
     ]
    }
   ],
   "source": [
    "response = agent_executor.invoke(\n",
    "    {\n",
    "        \"graph_schema\": graph.schema,\n",
    "        \"query\": \"Find all providers who treated patients with a condition diagnosed during a routine pediatric checkup.\",\n",
    "    }\n",
    ")"
   ]
  },
  {
   "cell_type": "code",
   "execution_count": 91,
   "metadata": {},
   "outputs": [
    {
     "name": "stdout",
     "output_type": "stream",
     "text": [
      "The provider who treated patients with a condition diagnosed during a routine pediatric checkup is:\n",
      "\n",
      "- **Provider Name:** Danelle47 Ondricka197\n",
      "- **Condition Diagnosed:** Full-time employment (finding)\n",
      "\n",
      "This information was retrieved by first identifying encounters related to routine pediatric checkups and then traversing the graph to find the associated conditions and providers.\n"
     ]
    }
   ],
   "source": [
    "print(response['output'])"
   ]
  }
 ],
 "metadata": {
  "kernelspec": {
   "display_name": ".venv",
   "language": "python",
   "name": "python3"
  },
  "language_info": {
   "codemirror_mode": {
    "name": "ipython",
    "version": 3
   },
   "file_extension": ".py",
   "mimetype": "text/x-python",
   "name": "python",
   "nbconvert_exporter": "python",
   "pygments_lexer": "ipython3",
   "version": "3.12.4"
  }
 },
 "nbformat": 4,
 "nbformat_minor": 2
}
