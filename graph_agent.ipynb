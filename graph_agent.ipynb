{
  "cells": [
    {
      "cell_type": "markdown",
      "metadata": {
        "id": "khassml5PrG8"
      },
      "source": [
        "### Explore graph algorithms in Network X"
      ]
    },
    {
      "cell_type": "code",
      "execution_count": 1,
      "metadata": {
        "colab": {
          "base_uri": "https://localhost:8080/"
        },
        "id": "NVGnPImKPrG9",
        "outputId": "d8c14575-45be-4360-8473-787bc7aecb84"
      },
      "outputs": [
        {
          "name": "stdout",
          "output_type": "stream",
          "text": [
            "_graphs/Christmas_Carol\n",
            "_graphs/CVE\n",
            "_graphs/OPEN_INTELLIGENCE\n",
            "_graphs/FLIGHTS\n",
            "_graphs/SYNTHEA_P100\n"
          ]
        }
      ],
      "source": [
        "from dotenv import load_dotenv\n",
        "from arango import ArangoClient\n",
        "import os\n",
        "\n",
        "load_dotenv()\n",
        "\n",
        "database = ArangoClient(hosts=os.getenv(\"ARANGO_HOST\")).db(\n",
        "    username=os.getenv(\"ARANGO_USERNAME\"),\n",
        "    password=os.getenv(\"ARANGO_PASSWORD\"),\n",
        "    verify=True,\n",
        ")\n",
        "for graph in database.graphs():\n",
        "    print(graph[\"id\"])"
      ]
    },
    {
      "cell_type": "code",
      "execution_count": 2,
      "metadata": {
        "colab": {
          "base_uri": "https://localhost:8080/"
        },
        "id": "Sp7-ruD3PrG9",
        "outputId": "06fcaea4-c457-489f-9553-63663c287525"
      },
      "outputs": [
        {
          "name": "stderr",
          "output_type": "stream",
          "text": [
            "[08:58:50 +0700] [INFO]: NetworkX-cuGraph is unavailable: No module named 'cupy'.\n",
            "[08:58:51 +0700] [INFO]: Graph 'SYNTHEA_P100' exists.\n",
            "[08:58:52 +0700] [INFO]: Default node type set to 'allergies'\n"
          ]
        }
      ],
      "source": [
        "import nx_arangodb as nxadb\n",
        "import networkx as nx\n",
        "\n",
        "graph = nxadb.Graph(db=database, name=\"SYNTHEA_P100\")"
      ]
    },
    {
      "cell_type": "code",
      "execution_count": 3,
      "metadata": {
        "id": "6KI8P9VXPrG-"
      },
      "outputs": [],
      "source": [
        "from langchain.tools import BaseTool\n",
        "from pydantic import BaseModel, Field\n",
        "from typing import Type\n",
        "import json\n",
        "import sys\n",
        "from io import StringIO\n",
        "\n",
        "\n",
        "class NetworkxAnalysisSchema(BaseModel):\n",
        "    code: str = Field(\n",
        "        ...,\n",
        "        description=\"The Python code to execute NetworkX algorithms on the graph variable\",\n",
        "    )\n",
        "\n",
        "\n",
        "class NetworkxAnalysisTool(BaseTool):\n",
        "    name: str = \"networkx_analysis\"\n",
        "    description: str = (\n",
        "        \"Execute Python code to run NetworkX algorithms on the graph\"\n",
        "    )\n",
        "    args_schema: Type[BaseModel] = NetworkxAnalysisSchema\n",
        "\n",
        "    def _run(self, code: str) -> str:\n",
        "        \"\"\"Execute Python code with NetworkX algorithms in a controlled environment\"\"\"\n",
        "        try:\n",
        "            env = {'G': graph, 'nx': nx}\n",
        "\n",
        "            # Redirect stdout to capture print statements\n",
        "            old_stdout = sys.stdout\n",
        "            sys.stdout = StringIO()\n",
        "\n",
        "            # Execute the provided Python code\n",
        "            exec(code, env)\n",
        "\n",
        "            # Capture output\n",
        "            output = sys.stdout.getvalue()\n",
        "            sys.stdout = old_stdout\n",
        "\n",
        "            # Check if 'result' is defined in the environment (expected output variable)\n",
        "            if \"result\" in env:\n",
        "                return json.dumps({\"results\": env[\"result\"]}, indent=2)\n",
        "            elif output:\n",
        "                return json.dumps({\"results\": output.strip()}, indent=2)\n",
        "            else:\n",
        "                return json.dumps(\n",
        "                    {\"results\": \"No result variable or output produced\"}, indent=2\n",
        "                )\n",
        "\n",
        "        except Exception as e:\n",
        "            return json.dumps(\n",
        "                {\"error\": f\"NetworkX analysis failed: {str(e)}\"}, indent=2\n",
        "            )\n",
        "\n",
        "\n",
        "class AQLQuerySchema(BaseModel):\n",
        "    code: str = Field(\n",
        "        ..., description=\"The AQL query to execute on the graph database\"\n",
        "    )\n",
        "\n",
        "\n",
        "class AQLQueryTool(BaseTool):\n",
        "    name: str = \"aql_query\"\n",
        "    description: str = (\n",
        "        \"Execute AQL queries to traverse the graph and extract structured relationships\"\n",
        "    )\n",
        "    args_schema: Type[BaseModel] = AQLQuerySchema\n",
        "\n",
        "    def _run(self, code: str) -> str:\n",
        "        \"\"\"Execute an AQL query on ArangoDB\"\"\"\n",
        "        try:\n",
        "            results = graph.query(code)\n",
        "            return json.dumps({\"results\": list(results)}, indent=2)\n",
        "        except Exception as e:\n",
        "            return f\"AQL Code Execution failed: {str(e)}\"\n",
        "\n",
        "\n",
        "TOOLKIT = [NetworkxAnalysisTool(), AQLQueryTool()]"
      ]
    },
    {
      "cell_type": "code",
      "execution_count": 5,
      "metadata": {
        "id": "fv3vlu12PrG-"
      },
      "outputs": [],
      "source": [
        "from langchain_core.prompts import (\n",
        "    HumanMessagePromptTemplate,\n",
        "    MessagesPlaceholder,\n",
        "    PromptTemplate,\n",
        "    ChatPromptTemplate,\n",
        ")\n",
        "from langchain_core.messages import SystemMessage\n",
        "\n",
        "with open(r'prompts/graph_system_prompt.txt', 'r', encoding='utf-8') as f:\n",
        "    SYSTEM_PROMPT = f.read()\n",
        "\n",
        "with open(\"prompts/graph_schema.txt\", \"r\") as f:\n",
        "    GRAPH_SCHEMA = f.read()\n",
        "\n",
        "PROMPTS = [\n",
        "    SystemMessage(content=SYSTEM_PROMPT),\n",
        "    MessagesPlaceholder(variable_name=\"chat_history\", optional=True),\n",
        "    HumanMessagePromptTemplate(\n",
        "        prompt=PromptTemplate(\n",
        "            input_variables=[\"query\", \"graph_schema\"],\n",
        "            template=\"KNOWLEDGE GRAPH SCHEMA: {graph_schema} \\n USER QUERY: {query} \",\n",
        "        )\n",
        "    ),\n",
        "    MessagesPlaceholder(variable_name=\"agent_scratchpad\"),\n",
        "]\n",
        "\n",
        "CHAT_PROMPT = ChatPromptTemplate.from_messages(PROMPTS)"
      ]
    },
    {
      "cell_type": "code",
      "execution_count": 6,
      "metadata": {
        "id": "8sfCfo3rPrG_"
      },
      "outputs": [],
      "source": [
        "from langchain.agents import create_tool_calling_agent\n",
        "from langchain.agents import AgentExecutor\n",
        "from langchain_openai import ChatOpenAI\n",
        "\n",
        "model = ChatOpenAI(temperature=0, model=\"gpt-4o\")\n",
        "agent = create_tool_calling_agent(model, TOOLKIT, CHAT_PROMPT)\n",
        "agent_executor = AgentExecutor(agent=agent, tools=TOOLKIT, verbose=False)"
      ]
    },
    {
      "cell_type": "code",
      "execution_count": 8,
      "metadata": {
        "colab": {
          "base_uri": "https://localhost:8080/"
        },
        "id": "T8v_KBD5PrG_",
        "outputId": "929a951a-916a-4a92-daae-d98cb060363c"
      },
      "outputs": [
        {
          "name": "stdout",
          "output_type": "stream",
          "text": [
            "The shortest path from the patient '7c2e78bd-52cf-1fce-acc3-0ddd93104abe' to the condition 'Medication review due (situation)' (CODE: 314529007) through their encounters is as follows:\n",
            "\n",
            "1. **Patient Node**: `patients/7c2e78bd-52cf-1fce-acc3-0ddd93104abe`\n",
            "2. **Encounter Node**: `encounters/0c5d5b18-165f-1ca2-ba19-d5aad055b6a8`\n",
            "3. **Payer Node**: `payers/734afbd6-4794-363b-9bc0-6a3981533ed5`\n",
            "4. **Encounter Node**: `encounters/ddd07218-f991-4103-7382-3237a1c7b220`\n",
            "5. **Organization Node**: `organizations/901c2d40-1ca3-3879-9a20-c663b8adc0a9`\n",
            "6. **Encounter Node**: `encounters/e18ae848-0962-bbb8-0942-3e52f3144f7d`\n",
            "7. **Condition Node**: `conditions/3282`\n",
            "\n",
            "This path shows the sequence of nodes traversed from the patient to the condition through various encounters and related entities.\n"
          ]
        }
      ],
      "source": [
        "response = agent_executor.invoke(\n",
        "    {\n",
        "        \"graph_schema\": GRAPH_SCHEMA,\n",
        "        \"query\": \"Find the shortest path from patient '7c2e78bd-52cf-1fce-acc3-0ddd93104abe' to the condition 'Medication review due (situation)' (CODE: 314529007) through their encounters.\",\n",
        "    }\n",
        ")\n",
        "print(response[\"output\"])"
      ]
    },
    {
      "cell_type": "markdown",
      "metadata": {
        "id": "xW5jXp2Rj6g2"
      },
      "source": [
        "### Test AQL & Python Code"
      ]
    },
    {
      "cell_type": "code",
      "execution_count": 8,
      "metadata": {
        "colab": {
          "base_uri": "https://localhost:8080/"
        },
        "id": "9bv7IKt9esbC",
        "outputId": "dc857b8a-24c2-48c1-be13-5a7bbf93abef"
      },
      "outputs": [
        {
          "name": "stderr",
          "output_type": "stream",
          "text": [
            "[15:08:17 +0000] [INFO]: Graph 'SYNTHEA_P100' load took 14.992738723754883s\n",
            "INFO:nx_arangodb:Graph 'SYNTHEA_P100' load took 14.992738723754883s\n"
          ]
        }
      ],
      "source": [
        "import networkx as nx\n",
        "from collections import defaultdict\n",
        "\n",
        "# Step 3: Compute Degree Centrality (number of encounters per organization)\n",
        "degree_centrality = nx.degree_centrality(graph)\n",
        "org_degree_centrality = {org_id: score for org_id, score in degree_centrality.items() if org_id.startswith(\"organizations/\")}\n",
        "\n",
        "# Step 4: Compute PageRank (importance of organizations in the network)\n",
        "pagerank = nx.pagerank(graph)\n",
        "org_pagerank = {org_id: score for org_id, score in pagerank.items() if org_id.startswith(\"organizations/\")}"
      ]
    },
    {
      "cell_type": "code",
      "execution_count": 9,
      "metadata": {
        "colab": {
          "base_uri": "https://localhost:8080/"
        },
        "id": "VPKPkIaoi_lw",
        "outputId": "d8c165d7-2ccf-458f-d86a-736300511242"
      },
      "outputs": [
        {
          "name": "stdout",
          "output_type": "stream",
          "text": [
            "Organizations Ranked by Overburden (Degree Centrality + PageRank):\n",
            "Rank | Organization Name | Degree Centrality | PageRank | Combined Score\n",
            "--------------------------------------------------------------------------------\n",
            "1    | Lynn Community Based Outpatient Clinic (CBOC) | 0.0048\n",
            "2    | NEW ENGLAND SINAI HOSPITAL | 0.0039\n",
            "3    | CARNEY HOSPITAL   | 0.0038\n",
            "4    | STEWARD GOOD SAMARITAN MEDICAL CENTER  INC. | 0.0036\n",
            "5    | GOOD SAMARITAN MEDICAL CENTER | 0.0035\n",
            "6    | WHITTIER REHABILTATION HOSPITAL | 0.0022\n",
            "7    | AP MEDICAL LLC    | 0.0014\n",
            "8    | FALMOUTH HOSPITAL ASSOCIATION INC | 0.0012\n",
            "9    | Fitchburg Outpatient Clinic | 0.0011\n",
            "10   | MOUNT AUBURN HOSPITAL | 0.0010\n",
            "11   | CARECENTRAL URGENT CARE MEDICAL GROUP PC | 0.0009\n",
            "12   | BAYSTATE NOBLE HOSPITAL CORPORATION | 0.0008\n",
            "13   | LYNN URGENT CARE LLC | 0.0008\n",
            "14   | TEWKSBURY HOSPITAL | 0.0008\n",
            "15   | TUFTS MEDICAL CENTER | 0.0006\n",
            "16   | LAWRENCE GENERAL HOSPITAL | 0.0006\n",
            "17   | BROCKTON HOSPITAL  INC. | 0.0006\n",
            "18   | BETH ISRAEL DEACONESS HOSPITAL-NEEDHAM  INC. | 0.0006\n",
            "19   | NORTH SHORE MEDICAL CENTER INC | 0.0005\n",
            "20   | ALLIANCE HEALTH AT BRAINTREE | 0.0005\n",
            "21   | UMASS MEMORIAL HEALTHALLIANCE CLINTON HOSPITAL INC | 0.0005\n",
            "22   | CARING HEALTHCARE SERVICES LLC | 0.0004\n",
            "23   | ENRICH WELLNESS HEALTH CENTER LLC | 0.0004\n",
            "24   | THE SHRINERS HOSPITAL FOR CHILDREN | 0.0004\n",
            "25   | 4499 ACUSHNET AVENUE OPERATING COMPANY  LLC | 0.0004\n",
            "26   | VIBRA HOSPITAL OF WESTERN MASSACHUSETTS LLC | 0.0004\n",
            "27   | ENCOMPASS HEALTH BRAINTREE HOSPITAL OF BRAINTREE | 0.0004\n",
            "28   | ARBOUR HOSPITAL  THE | 0.0004\n",
            "29   | MARLBOROUGH HOSPITAL CORP | 0.0004\n",
            "30   | FRANCISCAN HOSPITAL FOR CHILDREN INC | 0.0004\n"
          ]
        }
      ],
      "source": [
        "# Step 5: Combine metrics and rank organizations\n",
        "combined_scores = defaultdict(dict)\n",
        "for org_id in org_degree_centrality:\n",
        "    combined_scores[org_id][\"name\"] = graph.nodes[org_id][\"NAME\"]\n",
        "    combined_scores[org_id][\"degree_centrality\"] = org_degree_centrality[org_id]\n",
        "    combined_scores[org_id][\"pagerank\"] = org_pagerank[org_id]\n",
        "    # Optional: Add a combined score (e.g., weighted average)\n",
        "    combined_scores[org_id][\"combined_score\"] = (org_degree_centrality[org_id] * 0.5) + (org_pagerank[org_id] * 0.5)\n",
        "\n",
        "# Sort by combined score\n",
        "sorted_orgs = sorted(combined_scores.items(), key=lambda x: x[1][\"combined_score\"], reverse=True)\n",
        "\n",
        "# Step 6: Output results\n",
        "print(\"Organizations Ranked by Overburden (Degree Centrality + PageRank):\")\n",
        "print(\"Rank | Organization Name | Degree Centrality | PageRank | Combined Score\")\n",
        "print(\"-\" * 80)\n",
        "for rank, (org_id, metrics) in enumerate(sorted_orgs[:30], 1):\n",
        "    print(f\"{rank:<4} | {metrics['name']:<17} | {metrics['degree_centrality']:.4f}\")"
      ]
    },
    {
      "cell_type": "code",
      "execution_count": 11,
      "metadata": {
        "colab": {
          "base_uri": "https://localhost:8080/"
        },
        "id": "1iuCfxjXf-V4",
        "outputId": "5a719d46-7f81-43d6-9ba2-a5a764ab76b6"
      },
      "outputs": [
        {
          "data": {
            "text/plain": [
              "[{'encounter_id': '84d6f5d3-569c-be5d-56a4-55f6e91c8a34',\n",
              "  'patients': [{'patient_id': '7c2e78bd-52cf-1fce-acc3-0ddd93104abe',\n",
              "    'name': 'Shila857 Kshlerin58'}],\n",
              "  'providers': [{'provider_id': '788c9178-9c9f-322d-bb05-c24373197a6f',\n",
              "    'name': 'Erica194 Goyette777'}]},\n",
              " {'encounter_id': '23abd072-3cd2-0ce9-3699-d88f347b7cf4',\n",
              "  'patients': [{'patient_id': 'ee070281-5df4-601c-8660-d40e7ea76def',\n",
              "    'name': 'Dallas143 Mueller846'}],\n",
              "  'providers': [{'provider_id': '84425bd3-a175-3886-89eb-8176ebc6a8e0',\n",
              "    'name': 'Mayola305 Hauck852'}]},\n",
              " {'encounter_id': '35c39791-b641-0c48-8ef4-5743fb8004b9',\n",
              "  'patients': [{'patient_id': '7c2e78bd-52cf-1fce-acc3-0ddd93104abe',\n",
              "    'name': 'Shila857 Kshlerin58'}],\n",
              "  'providers': [{'provider_id': '788c9178-9c9f-322d-bb05-c24373197a6f',\n",
              "    'name': 'Erica194 Goyette777'}]},\n",
              " {'encounter_id': 'e2f42507-c0f7-5a84-fbca-6a24314211d1',\n",
              "  'patients': [{'patient_id': '7c2e78bd-52cf-1fce-acc3-0ddd93104abe',\n",
              "    'name': 'Shila857 Kshlerin58'}],\n",
              "  'providers': [{'provider_id': '788c9178-9c9f-322d-bb05-c24373197a6f',\n",
              "    'name': 'Erica194 Goyette777'}]},\n",
              " {'encounter_id': '2d202db5-be74-ad7c-dc44-723acad26620',\n",
              "  'patients': [{'patient_id': '6b031df5-bade-5f6b-6258-d9bcb897cf55',\n",
              "    'name': 'Denver542 Rosenbaum794'}],\n",
              "  'providers': [{'provider_id': 'da3487c4-3169-3a6a-946f-9d24219600d3',\n",
              "    'name': 'Fabian647 Larkin917'}]}]"
            ]
          },
          "execution_count": 11,
          "metadata": {},
          "output_type": "execute_result"
        }
      ],
      "source": [
        "result = graph.query('''\n",
        "WITH encounters, patients, providers, patients_to_encounters, providers_to_encounters\n",
        "FOR enc IN encounters\n",
        "  FILTER enc.DESCRIPTION == \"Well child visit (procedure)\"\n",
        "  LET patients = (\n",
        "    FOR pat IN 1..1 INBOUND enc patients_to_encounters\n",
        "      LIMIT 10\n",
        "      RETURN { patient_id: pat._key, name: CONCAT(pat.FIRST, \" \", pat.LAST) }\n",
        "  )\n",
        "  LET providers = (\n",
        "    FOR prov IN 1..1 INBOUND enc providers_to_encounters\n",
        "      LIMIT 10\n",
        "      RETURN { provider_id: prov._key, name: prov.NAME }\n",
        "  )\n",
        "  LIMIT 10\n",
        "  RETURN { encounter_id: enc._key, patients: patients, providers: providers }\n",
        "  ''')\n",
        "list(result)[:5]"
      ]
    },
    {
      "cell_type": "markdown",
      "metadata": {
        "id": "IrojPXFHRDSX"
      },
      "source": [
        "### Test subgraph function and algorithm scalability"
      ]
    },
    {
      "cell_type": "code",
      "execution_count": null,
      "metadata": {
        "colab": {
          "base_uri": "https://localhost:8080/"
        },
        "id": "hWRuiAklkjDd",
        "outputId": "200400f0-5458-4c18-84d5-79c63528cb7d"
      },
      "outputs": [
        {
          "name": "stdout",
          "output_type": "stream",
          "text": [
            "no. of vertices:  907\n",
            "no. of edges:  897\n"
          ]
        }
      ],
      "source": [
        "AQL_QUERY = '''\n",
        "WITH patients, patients_to_encounters, encounters,\n",
        "     encounters_to_conditions, encounters_to_medications,\n",
        "     encounters_to_procedures, conditions, medications, procedures\n",
        "\n",
        "// Start with a sample of 10 patients\n",
        "LET patients = (\n",
        "    FOR p IN patients\n",
        "    LIMIT 10\n",
        "    RETURN p._id\n",
        ")\n",
        "\n",
        "// Get their encounters\n",
        "LET encounters = (\n",
        "    FOR p IN patients\n",
        "        FOR e IN patients_to_encounters\n",
        "            FILTER e._from == p\n",
        "            RETURN e._to\n",
        ")\n",
        "\n",
        "// Get related conditions, medications, and procedures\n",
        "LET conditions = (\n",
        "    FOR e IN encounters\n",
        "        FOR c IN encounters_to_conditions\n",
        "            FILTER c._from == e\n",
        "            LIMIT 50\n",
        "            RETURN c._to\n",
        ")\n",
        "\n",
        "LET medications = (\n",
        "    FOR e IN encounters\n",
        "        FOR m IN encounters_to_medications\n",
        "            FILTER m._from == e\n",
        "            LIMIT 50\n",
        "            RETURN m._to\n",
        ")\n",
        "\n",
        "LET procedures = (\n",
        "    FOR e IN encounters\n",
        "        FOR pr IN encounters_to_procedures\n",
        "            FILTER pr._from == e\n",
        "            LIMIT 50\n",
        "            RETURN pr._to\n",
        ")\n",
        "\n",
        "// Collect all vertex IDs\n",
        "LET vertexIds = UNION(\n",
        "    patients,\n",
        "    encounters,\n",
        "    conditions,\n",
        "    medications,\n",
        "    procedures\n",
        ")\n",
        "\n",
        "// Explicitly collect edges from each edge collection\n",
        "LET edgeIds = UNION(\n",
        "    // patients to encounters edges\n",
        "    (FOR e IN patients_to_encounters\n",
        "        FILTER e._from IN patients AND e._to IN encounters\n",
        "        RETURN e._id),\n",
        "    // encounters to conditions edges\n",
        "    (FOR e IN encounters_to_conditions\n",
        "        FILTER e._from IN encounters AND e._to IN conditions\n",
        "        RETURN e._id),\n",
        "    // encounters to medications edges\n",
        "    (FOR e IN encounters_to_medications\n",
        "        FILTER e._from IN encounters AND e._to IN medications\n",
        "        RETURN e._id),\n",
        "    // encounters to procedures edges\n",
        "    (FOR e IN encounters_to_procedures\n",
        "        FILTER e._from IN encounters AND e._to IN procedures\n",
        "        RETURN e._id)\n",
        ")\n",
        "\n",
        "// Return the subgraph\n",
        "RETURN {\n",
        "    vertices: vertexIds,\n",
        "    edges: edgeIds\n",
        "}\n",
        "'''\n",
        "\n",
        "cursor = graph.query(AQL_QUERY)\n",
        "result = list(cursor)[0]\n",
        "print('no. of vertices: ', len(result['vertices']))\n",
        "print('no. of edges: ', len(result['edges']))"
      ]
    },
    {
      "cell_type": "code",
      "execution_count": null,
      "metadata": {
        "colab": {
          "base_uri": "https://localhost:8080/"
        },
        "id": "jA_h9i-1mT5p",
        "outputId": "8fa24a52-fcd2-4219-cb1b-e3cf37504688"
      },
      "outputs": [
        {
          "name": "stdout",
          "output_type": "stream",
          "text": [
            "Number of nodes: 907\n",
            "Number of edges: 897\n",
            "Node patients/01fd0320-1260-3613-95fb-7703f53e6a08 attributes: {'BIRTHDATE': '1951-08-10', 'SSN': '999-99-9040', 'DRIVERS': 'S99991675', 'PASSPORT': 'X19696800X', 'PREFIX': 'Mr.', 'FIRST': 'Frankie174', 'LAST': 'Schinner682', 'MARITAL': 'M', 'RACE': 'white', 'ETHNICITY': 'nonhispanic', 'GENDER': 'M', 'BIRTHPLACE': 'North Adams  Massachusetts  US', 'ADDRESS': '989 Kunze Orchard Unit 36', 'CITY': 'Lynn', 'STATE': 'Massachusetts', 'COUNTY': 'Essex County', 'FIPS': 25009, 'ZIP': 1907, 'LAT': 42.4402758250332, 'LON': -70.95449283370179, 'HEALTHCARE_EXPENSES': 276780.33, 'HEALTHCARE_COVERAGE': 568451.33, 'INCOME': 124300}\n",
            "Edge patients/01fd0320-1260-3613-95fb-7703f53e6a08 -> encounters/dd606bd7-d284-099e-3161-558e11cd5058 attributes: {'edge_id': 'patients_to_encounters/147068', 'CODE': 185345009}\n"
          ]
        }
      ],
      "source": [
        "import networkx as nx\n",
        "\n",
        "# Create an empty directed graph\n",
        "G = nx.DiGraph()\n",
        "\n",
        "# Function to get document attributes\n",
        "def get_document_attributes(doc_id):\n",
        "    collection_name = doc_id.split('/')[0]\n",
        "    cursor = database.collection(collection_name).get({'_id': doc_id})\n",
        "    return cursor\n",
        "\n",
        "# Add nodes with attributes\n",
        "for vertex_id in result['vertices']:\n",
        "    attrs = get_document_attributes(vertex_id)\n",
        "    if attrs:\n",
        "        # Remove system attributes\n",
        "        attrs.pop('_key', None)\n",
        "        attrs.pop('_id', None)\n",
        "        attrs.pop('_rev', None)\n",
        "        G.add_node(vertex_id, **attrs)\n",
        "\n",
        "# Add edges with attributes\n",
        "for edge_id in result['edges']:\n",
        "    edge_doc = get_document_attributes(edge_id)\n",
        "    if edge_doc:\n",
        "        from_vertex = edge_doc['_from']\n",
        "        to_vertex = edge_doc['_to']\n",
        "        # Remove system attributes\n",
        "        edge_attrs = {k: v for k, v in edge_doc.items() if not k.startswith('_')}\n",
        "        G.add_edge(from_vertex, to_vertex, edge_id=edge_id, **edge_attrs)\n",
        "\n",
        "# Basic graph info\n",
        "print(f\"Number of nodes: {G.number_of_nodes()}\")\n",
        "print(f\"Number of edges: {G.number_of_edges()}\")\n",
        "\n",
        "# Example of accessing attributes\n",
        "for node in G.nodes(data=True):\n",
        "    print(f\"Node {node[0]} attributes: {node[1]}\")\n",
        "    break\n",
        "for edge in G.edges(data=True):\n",
        "    print(f\"Edge {edge[0]} -> {edge[1]} attributes: {edge[2]}\")\n",
        "    break"
      ]
    },
    {
      "cell_type": "code",
      "execution_count": null,
      "metadata": {
        "colab": {
          "base_uri": "https://localhost:8080/"
        },
        "id": "HQX_MFhePrG-",
        "outputId": "603c5abe-a25a-420f-8a7b-7bc5c1dca6c7"
      },
      "outputs": [
        {
          "name": "stdout",
          "output_type": "stream",
          "text": [
            "Degree Centrality: 0.001 seconds\n",
            "Sample degree centrality: [('patients/01fd0320-1260-3613-95fb-7703f53e6a08', 0.44150110375275936), ('patients/0213869d-8ae4-2a7c-40bd-9a80e9560189', 0.039735099337748346), ('patients/05e5e51a-5dd4-84eb-7811-fd2c93bdaa7e', 0.046357615894039736)]\n",
            "Betweenness Centrality: 0.148 seconds\n",
            "Top 3 betweenness: [('encounters/94676bc6-f507-a1e5-e25d-06fbfdfea94f', 1.585501201322064e-05), ('encounters/43d4594c-f2f2-83dd-7b15-79046fbedc7f', 1.463539570451136e-05), ('encounters/2acd0294-4344-b09b-bb8c-15f9d70acfb3', 1.341577939580208e-05)]\n",
            "Closeness Centrality: 0.020 seconds\n",
            "Sample closeness centrality: [('patients/01fd0320-1260-3613-95fb-7703f53e6a08', 0.0), ('patients/0213869d-8ae4-2a7c-40bd-9a80e9560189', 0.0), ('patients/05e5e51a-5dd4-84eb-7811-fd2c93bdaa7e', 0.0)]\n",
            "Louvain Community Detection: 0.017 seconds\n",
            "Number of communities: 54, Sample: [(0, ['patients/01fd0320-1260-3613-95fb-7703f53e6a08', 'encounters/4a95dc57-711a-5319-02d6-5759315d768f', 'encounters/35aba7bc-e0bc-c314-08bf-bee0364b4e7d', 'encounters/ebd93b84-a3f7-ca2d-a46b-13524fc8487f', 'encounters/72bba2a1-b522-526e-78ce-b4c91c37daa5', 'encounters/01844237-fc00-ef00-7b86-4117bfcbeae7', 'encounters/2374d638-f5f4-6890-f6e4-7056094068a5', 'encounters/50aabf38-6b78-57aa-d16a-bb4e393fb83e', 'encounters/bc4e2c57-3a76-c569-92ee-69be0a043b05', 'encounters/a7fc880a-ad61-2781-2e2c-a2fd5f233887', 'encounters/0057098f-718c-c6cf-7bc5-a4a61e044f4c', 'encounters/2b1e5dc7-99eb-58f5-9846-eaff80db4cad', 'encounters/ce4b40f1-b983-317a-5a75-e6287a177a40', 'encounters/dbed0b03-16a8-e799-be1b-f9efdd0d7f89', 'encounters/a048d457-4af7-6645-f034-abc67ae2742a', 'encounters/30c304da-8f6b-6626-51d2-5c19140ead19', 'encounters/b37b63f0-b9bc-8a34-695b-fd3da197d71a', 'encounters/7ca74e13-ff16-41d6-6a16-448144e984a4', 'encounters/4908a222-6a2d-3bc3-80f4-8fe6e159f312', 'encounters/e99b05e4-6989-cfc1-a42e-4ef5434796ce', 'encounters/94466af0-62e0-fee4-f16c-371382b77284', 'encounters/1618c0ad-aef3-6edd-619a-d97d783456a6', 'encounters/e8e876c6-25bc-5c94-009e-78e88b07faf4', 'encounters/237618e6-4b5e-c1c5-89eb-ac4c8eb70fdb', 'encounters/a62d8c67-bf62-f02c-97d7-c2dceadaa3b2', 'encounters/82ba128b-f82a-3fce-f363-a474ff623dcd', 'encounters/c8350fe8-07a7-1b49-4e63-cc91f0078399', 'encounters/ec1463c7-b67d-da74-5388-cb6317b06a17', 'encounters/64490864-c3d3-de0b-276e-b824b10d7b3e', 'encounters/31803e35-c52f-202d-e87d-bdffb5292e47', 'encounters/e0ef3bbe-d6fc-ab48-48ab-1fce87e9be69', 'encounters/72df8f2e-5cde-208a-1b4e-cdb519f80763', 'encounters/ad37ac64-1c7c-b491-fe31-187f912e497e', 'encounters/8cb0fbcb-e34e-4e0c-ccba-d3f7ee92167e', 'encounters/92527049-6cfd-7d72-7fb4-e192068a08ac', 'encounters/107335ec-7df7-516d-117d-c081537c63a6', 'encounters/70913558-b420-bc4a-be8a-546c05a71f80', 'encounters/b1d33dc3-26a3-efbe-1673-f5fc20504ef0', 'encounters/62b7a730-b3ef-6759-c5d6-8ef9a62b6a6d', 'encounters/d9f3ca65-1434-34bb-712d-b80ac896fc5b', 'encounters/be92ac21-d821-eebf-7c2d-82690f58c74c', 'encounters/75f58c1c-6a30-ea37-32a1-ef6732e73835', 'encounters/8ff550fb-0a1c-0fd2-de8a-0b925795be47', 'encounters/74ed8a0d-9b46-2dfd-a626-1e7c5ea99d69', 'encounters/0aa152b6-6036-d262-5a16-ec3a787e6698', 'encounters/f81462dc-8e55-2676-5d68-dc0ecaa61751', 'encounters/cbe86f60-9b3c-0110-7992-87fe1a492154', 'encounters/3a17a3ae-cdad-2461-a5e5-00c5771741fc', 'encounters/fc62a757-e4e1-00e9-fc65-a924c89871f4', 'encounters/060a1d1e-02fb-b198-c5e8-dc73ecc80975', 'encounters/4becd764-de0c-bfa0-0f70-32d75917da8a', 'encounters/c8fdcecd-1664-b342-d051-7e3672e43c02', 'encounters/39a674aa-d7c4-be46-70c7-de1d2247ef66', 'encounters/a7c898c8-472c-b07c-82e9-2e9847711ef9', 'encounters/eea65133-5805-36e9-90ee-902fe14dc009', 'encounters/ca3b5d46-e49e-91ba-8be3-d738c0df4a1d', 'encounters/bdb075fa-2369-2d78-53c8-89e7039d45a3', 'encounters/1bd64c50-3ec4-ab4e-6f21-a05261d45dde', 'encounters/3fc07191-9b6d-c54e-a192-7a35e09b0705', 'encounters/a4ba3993-6dd9-ff59-b14c-bf8bc5ff8e70', 'encounters/4bf33514-bef8-5f42-3975-4ed30d975084', 'encounters/43366f85-283c-5cac-bffd-5c703d777756', 'encounters/e87ad120-8384-dc97-28c9-fa553a43124d', 'encounters/c09d2933-fa4b-1c50-48b8-447f9f7e673b', 'encounters/38f89ea6-fb6b-34e4-43f3-b349be66cdbc', 'encounters/de9c8c4e-eb83-f5d0-33fb-1439fb1cecd1', 'encounters/6bc9b119-1428-be5e-6269-a66fb1fb6367', 'encounters/8e559771-d744-9ca6-cb13-6804391c099e', 'encounters/2903b9b9-5770-3437-cfc1-239450d3fcfa', 'encounters/56567640-021c-6aa7-02be-d64b98cadee6', 'encounters/4e39a3f3-4a33-3c79-8e97-d45fd48b1981', 'encounters/e3a8678f-f26d-cefe-abd7-5eaf97eb0288', 'encounters/9d265879-8772-9fe9-482c-9e62b62d4185', 'encounters/26458e9f-5b99-bfcd-1d0b-149496eb1d1e', 'encounters/544c14dd-9eb8-c39f-ddf1-f6fb0a01bf54', 'encounters/1a59c6ae-378c-711e-f2bd-9ad4d55a8b63', 'encounters/c6bd0b58-dd7a-6974-e794-6f6e0c55a3ff', 'encounters/fd9633fb-b48b-976b-f4bc-f5eae259f1bb', 'encounters/f56b09f5-1e3a-c0da-c3db-f03cbd14f89b', 'encounters/fb6c0978-ebf4-29e4-7b28-e8218db3a138', 'encounters/101cd39a-936a-dc89-9463-4100e59e8159', 'encounters/eff3bd52-6191-4bbc-516d-026d3e0f631f', 'encounters/aed6b24d-1080-8810-7044-a02b892c90b8', 'encounters/b2807860-7aaa-c56c-8265-2cde963907b3', 'encounters/1c86e869-66a6-6242-f997-96c06ec05002', 'encounters/ce207335-459a-8dd5-1886-5e5623a48a02', 'encounters/01801fa3-f63d-7244-6b78-5b4e66882efa', 'encounters/ddf7dc16-9af5-46c0-46cb-5b6a7cd1c88a', 'encounters/37ba73e8-de88-8727-233e-31e340d81d17', 'encounters/7c7daca9-426a-131d-fa1a-43dc2dc13722', 'encounters/69370dc3-5c4d-e62b-5316-132e152900ad', 'encounters/eeaa047a-436c-55e4-64e2-e7c82e4f3eb2', 'encounters/7de3ffad-0f20-e1c3-5646-0b67db398d40', 'encounters/f3329640-9a3f-4c7a-e9ac-55de63aeb937', 'encounters/223e4167-a442-d43c-e441-dcdfe8d04642', 'encounters/a3a03769-ca73-478d-9aff-d19360713845', 'encounters/8b8c836a-6bac-b7a2-838a-22d9214d0245', 'encounters/cac66af4-d40e-7652-61da-e145c8fd9c8e', 'encounters/33726272-aad0-bb32-4224-306b98e3715f', 'encounters/352b6823-dc87-4dc7-c094-e3846fefecfc', 'encounters/27a52f09-dfaa-3f26-c858-3366cb9d0b4b', 'encounters/54e4bef4-dce8-21d4-4cf1-a67c3b39bc89', 'encounters/31f970ef-d9a4-95f4-5cec-1a7bb684ab1c', 'encounters/3e98ae8d-f87a-f402-7c40-5bdddfdf0bb3', 'encounters/8768f1be-b5e8-17e7-95ed-39f424160a2d', 'encounters/64fa92d4-e856-5a65-7057-b71b58b65e5e', 'encounters/1003a5d7-65f0-3642-264e-1b883954f211', 'encounters/0f54219e-ba91-a47b-53c5-c74b7349b292', 'encounters/0f555b69-1361-c89e-3009-eb519e5f840b', 'encounters/1e5d3705-db5e-4991-e9cc-1bed818dca7e', 'encounters/d4ec07ca-ed03-2dc8-e3b3-c0c1c317a86d', 'encounters/1e381037-ae4a-6939-b744-bbfe356f728a', 'encounters/84439831-908d-0a23-766c-0639e73a6ccd', 'encounters/7a495f5b-c006-750d-29d0-93fc27f2459a', 'encounters/0beee9da-b796-256b-6869-93702c8bfbdd', 'encounters/6f87d3aa-b97c-8acd-db81-e8a5a9730449', 'encounters/3b53e7a5-622b-5864-1eba-19a7b9244fb2', 'encounters/842f2aad-0333-9c9a-3e2a-0ac462441638', 'encounters/28ce8614-d162-e55b-25a0-35b96055da48', 'encounters/739fd43b-087d-f01e-5bca-4c0a6ad9cd60', 'encounters/f539ea66-2e7a-75cf-848e-c4b9f93df24d', 'encounters/e193d53a-9f28-4698-4efe-10e1484b6fe5', 'encounters/a55affde-7d4f-8903-177b-7c68bb854a42', 'encounters/c11c44a5-b0d4-b21c-e458-fdbaedc5ef55', 'encounters/8242d8a3-769b-3cdf-0a3c-f9a39bc1d7d3', 'encounters/e12b6422-d7df-b2db-db05-40867d934fe3', 'encounters/958e86e6-58c1-76cc-8e54-ab87a70328bb', 'encounters/9eb6ed21-5650-4f0a-92de-1d78b61c5e90', 'encounters/fd500ae0-71db-e627-9dc1-fecf1cbee7d4', 'encounters/0dc838e8-4867-80b0-f62a-ae56204e0d00', 'encounters/d4792f5d-80d2-2c32-ec35-7f4e6db66497', 'encounters/709bb549-a718-b107-3ba1-4a10e4e90e33', 'encounters/c6236fc9-c101-cbcd-b744-67b906baa8a9', 'encounters/a5b640a8-7909-f61d-20b0-898ab6ec5538', 'encounters/f232f52d-f87e-0f25-a8b3-57268ebb43fb', 'encounters/43278011-e7ca-e08d-6413-8e0b403eac90', 'encounters/844fb059-4ff9-25b1-2383-415ee27a4e41', 'encounters/1fad491d-b84d-5a60-68dd-f79ffede91a7', 'encounters/b387e342-fbd1-20a4-3802-4aaf55887c4a', 'encounters/65e5ef5c-1fd5-b7d9-2074-c799ae7a8c45', 'encounters/e31c18c7-4e2c-9517-0d3d-3ad44b4217e2', 'encounters/8dcd490b-60d2-c5f8-f381-6d8a7207a41a', 'encounters/6271355c-16bd-7e14-a617-148dbfeb22a2', 'encounters/f24ee9fb-1fda-fcb7-835b-2f90bb334008', 'encounters/607bb8bc-ae9f-31e7-ed32-2d6c128f144a', 'encounters/bc500825-5801-3098-5a81-5e4108d3d474', 'encounters/08a1bb10-674f-a4f5-a71e-08c30ad07de3', 'encounters/05c07268-c08d-fb69-9b70-1fc2a9de8eb5', 'encounters/a452cede-f20b-4db2-a69c-cdda1d6ebe23', 'encounters/b93fa077-333f-e973-5afb-66ed30c8f67a', 'encounters/c8bb1e60-45d9-d0ea-f8cb-b3b23b39c423', 'encounters/561c7471-c86a-719a-91ed-4ff839a51785', 'encounters/e666f9a5-d0c2-50f9-cb75-278961db1bdb', 'encounters/51bdbaf4-8c01-4351-dc71-a5be0d00452a', 'encounters/cc6f17dc-d77b-8a07-d251-372d7abd1126', 'encounters/b92c8f36-4006-15bd-5cf4-66b1e79aea3b', 'encounters/6923ed17-3e7e-ae86-a471-6f5fcb83ef7c', 'encounters/3f4c62b9-0e6b-da5b-c898-ee0056a8a7d0', 'encounters/c5098d84-843b-d262-7b17-15fed9abd83b', 'encounters/5273da4c-2362-f581-53cf-ec348d7271ab', 'encounters/05f55549-8743-f1c2-17bb-d9ff96a21cd0', 'encounters/8171ebb3-32ab-8b4f-69d9-34b3bcb3ee8a', 'encounters/b51d4739-ebf1-c5b2-a26c-f8fa166b166d', 'encounters/8136b35e-f96f-fa89-29e7-a5654778db40', 'encounters/11df8ee6-b534-8c62-8cd9-66c6dbc9b8a4', 'encounters/853bd02a-9425-8c22-9e8b-50228d02d376', 'encounters/465d642d-a867-c50d-416b-c0a248c34fda', 'encounters/93a6c157-be3d-daba-e44e-0216a44bfd03', 'encounters/e657b236-9640-25c1-63d4-8f95c250b552', 'encounters/95e0a466-4d42-ffc7-74e9-fbd6b482dca4', 'encounters/c4531c65-be60-fa68-8e58-2af767213ef4', 'encounters/ec29b158-da44-4841-7e73-d8d889d23728', 'encounters/e9d8b679-6f57-dd04-757d-1887fa5579f3', 'encounters/0af6f6f4-6960-17af-76c4-7066c9f5fe92', 'encounters/3dc4c17f-de17-355f-4e0b-5b07add74042', 'encounters/852a5324-5e4d-334d-7ea9-37711d89cc4e', 'encounters/ff428730-321a-df38-6813-74795b467b76', 'encounters/89a9aea5-dd9a-184b-6a03-a2208d6cf46f', 'encounters/33b00f56-def0-b36b-b96e-fd4649c50778', 'encounters/d9c3475c-0db1-d6c6-7339-1c4e7c52a497', 'encounters/dd9dfbc4-f4c0-4b55-11bf-4aee5ff96774', 'encounters/89d87ea0-aefd-292c-48a7-bc3183a1afcd', 'encounters/dd30bd40-7e91-c697-8ebd-d391b8a474db', 'encounters/41dfe084-98dd-301f-f6d3-98b0b28c3be1', 'encounters/dc37df4a-809b-50f7-4016-688ffc754603', 'encounters/7693bc34-0026-faf0-bcdb-45f50f1d7f55', 'encounters/567c51ad-d952-ac26-b8ac-bf31ce592006', 'encounters/e8f16400-2b5b-2b3b-a240-1ca361a4cf36', 'encounters/5c6ff750-07b3-a516-8b7c-9e71ca447f89', 'encounters/66be1d64-92b6-a4d1-2806-93456d298999', 'encounters/9e0606ee-bc14-30d2-d2df-1103850a9bca', 'encounters/ea2bdb9f-c446-667a-1b4d-c5a0d2c7526c', 'encounters/c24aad7c-5642-c850-3ebf-89c348d3fa2f', 'encounters/243a498e-ef2c-295d-106c-0e0418d4df6f', 'encounters/e43a139f-686c-25ca-f32b-09eb28ffdc23', 'encounters/111373a0-24e7-83ee-592e-25acbced6c1d', 'encounters/110a1810-83df-c0c1-66d4-698ffe1ac36c', 'encounters/f5574573-3a07-d354-f704-5171f8d7ab53', 'encounters/d8c6dfe4-f140-696d-c20e-a5c18f5ca077', 'encounters/a1a93b3a-3018-2c37-4fa3-668c330997a6', 'encounters/40f7acba-ed5e-2ea5-a61b-d7af7340ec3b', 'encounters/b16125b9-b23b-0a21-060b-2434e18ee461', 'encounters/77f3b94f-f1de-b419-10fa-8ae95aec4bf2', 'encounters/ac21c3f2-9f20-c319-8856-8946c85c0289', 'encounters/251fb294-1677-43e3-70e7-00c0c4bbce5d', 'encounters/f3fcf2c1-b2fe-32d1-bd9f-9786c633dff9', 'encounters/3f131ec4-feb3-7746-5603-434adfa3d53d', 'encounters/06ab0180-d37b-231a-9b26-4ad9167fef82', 'encounters/cfba51c0-06cf-2adf-ced5-eddf0ba48c84', 'encounters/19629118-f1ce-6583-6433-00f302723988', 'encounters/405772b1-cd55-75cc-5457-62ee55e4468b', 'encounters/ee637d9a-8f94-9e48-17ae-1153c6b01c0c', 'encounters/d80b15b4-6c8f-a4af-b3b6-53aa218d4036', 'encounters/c09274ce-d0b8-8c50-26be-bcf102821350', 'encounters/1771dc31-2bc3-a155-f670-94a130cebb11', 'encounters/d4830c64-9f9e-0b0d-cf0f-f08a8455c05b', 'encounters/43bc004b-31d5-385f-0704-2f672644737a', 'encounters/52a7e9a4-c78c-00f2-f4cf-124b9d829768', 'encounters/294fbced-311e-157e-caf4-ab83eae7e2ba', 'encounters/48ad0b3a-6b78-419e-833c-4fdb4387b37e', 'encounters/efdee4d7-bc03-558e-a68c-4d098f608378', 'encounters/833e0933-c98c-77fe-b903-a3d539881e4e', 'encounters/cb94d250-a6b5-8c3a-c9cb-78e220876410', 'encounters/3928382a-06ce-2631-2b6c-9249f74e97d6', 'encounters/3db1c0c3-39cf-8532-851b-0e9bb65125d5', 'encounters/0a9ce947-094c-685c-8614-67f3dfda82ef', 'encounters/005fa105-b112-e735-4b6c-3b3a99f87db9', 'encounters/c1b21918-119a-c5e0-aadf-3b404a2bd586', 'encounters/6b3557c8-fe03-c6fa-9b16-5f13a1c548b6', 'encounters/77007e0a-c161-5cbf-439d-089eaf11a1c1', 'encounters/ccc297f8-536f-317b-46b5-21b0c2204e84', 'encounters/86f36a30-f084-f397-27e9-99744f7d33d7', 'encounters/b1ed0a48-e281-e29e-b747-794891af1a15', 'encounters/cae8f51b-eab2-80e6-83e8-168d430c20ef', 'encounters/47a88d78-99c6-4f47-ca4f-a23728ba9a64', 'encounters/f839c816-d213-f596-0704-0674756f9f93', 'encounters/28793736-584d-a03d-cd98-f23ff98a2258', 'encounters/381b026c-e54c-a6a5-0883-7d0c0713c022', 'encounters/f0cae1b6-5e54-6dfd-6681-be580db07ce9', 'encounters/a8fcef61-14ed-bcfd-3ff2-389bd492b86b', 'encounters/c8f56b45-c889-b4b1-ac73-297bc8562962', 'encounters/b441fa11-9cda-3f6c-8113-de38fc367c35', 'encounters/a723f994-6ed2-3c98-8ad1-b74f4feaab6e', 'encounters/857a344f-0a32-b398-0b22-72bd22c1c176', 'encounters/3f0d5774-1e94-d68d-fa19-0fa1eb14350e', 'encounters/7bb05897-268f-05a5-cb50-e29fa5d524b8', 'encounters/393d9697-3328-1701-2206-8fa517c87b32', 'encounters/ce3f2774-c311-f570-b947-e8ff7bd44a2b', 'encounters/2ce7e9a3-0702-1dae-170b-ea051f32815c', 'encounters/add9e8ee-d959-49e2-8c8c-ec4498adca25', 'encounters/8e6bf26e-a900-877f-b80b-4606f3530b30', 'encounters/f63d4aae-f218-0473-63a1-9c293a6c36b3', 'encounters/f5d6b60c-c0a6-ba6d-55ea-b6c0a7c52b95', 'encounters/ec535d35-3b77-7ce5-bc74-16c109360f7b', 'encounters/c6353c80-4ddd-93fe-21a9-c678e8d8e16c', 'encounters/42d25585-c188-e942-49b1-57e43c7023e0', 'encounters/ac3a9bd8-e161-fc3b-85e4-d358d97f81fc', 'encounters/481ee92f-8b90-3c33-3157-a25f064772a9', 'encounters/486cbf38-f857-c1a6-caff-019402381e8a', 'encounters/e269f3f4-b2ed-4234-d948-1233b73f97b3', 'encounters/2ce3936b-d2fc-d222-e4bc-1bf1bf9c08a2', 'encounters/1029d102-df88-43f7-d9c3-9bcd28d57283', 'encounters/d8cbd678-40e1-f1f0-0676-1ec68cdf77f1', 'encounters/2abd027c-efaf-5625-7ebd-a08870c6fa62', 'encounters/c46dd586-89d5-2d56-8532-0b1e03bd7cce', 'encounters/342cf58f-8d8e-4a78-5ba1-b45cc0544469', 'encounters/52105dda-b738-df9e-abd9-a3777263499c', 'encounters/e776cf8e-aaf5-d4ad-1725-b2889f7a4bd4', 'encounters/909a8515-8bd0-2aaa-f67b-17bf1602e4bd', 'encounters/767fc68a-09ea-d621-d9ca-b4ec15efa6e4', 'encounters/674ef616-3052-b985-6221-da04baac2ede', 'encounters/4877b1f6-3193-b9bf-2442-1acd12c1745f', 'encounters/97a1e84f-5a8a-719e-e026-303fba77e241', 'encounters/10cb8ae9-d4ab-c049-6a8a-255c4762fc77', 'encounters/cf4e3f4f-59cc-6c5a-71f2-e9bebc17d315', 'encounters/a1b51424-60ee-a0cb-70b5-0840ae0c9fdc', 'encounters/7e39f3d0-0e24-ba36-366b-2c7eb10193f8', 'encounters/280fd974-e042-f562-48d9-b308830c3246', 'encounters/2e4e9258-43a5-99ba-4e9a-f6aa4116bad9', 'encounters/66d4f85f-f71d-346c-26f6-210cd479b3fe', 'encounters/29f60e3d-b6e9-9263-3fb8-9034200aea6e', 'encounters/134468fb-220c-b9ee-1b5b-1297415b614a', 'encounters/d0b88cb2-c3ac-47b3-2ff9-9836bff56fe0', 'encounters/23bc777c-3530-824d-fa52-50f56945ebd8', 'encounters/3850e953-f81f-2faf-d74c-1d5ff23f8cb1', 'encounters/9111d74c-bd5e-162e-035e-89a11b786bc7', 'encounters/6e783e38-7f12-71c4-8925-2d8d4ac484fd', 'encounters/174e51fb-99b5-5060-3c91-b90f892a9fdd', 'encounters/627e3c6d-caba-5d27-fc10-04f25dba554b', 'encounters/6f09d1cd-29ca-2cd9-a77e-9a323165f030', 'encounters/c2f19faf-23f6-2b45-6997-756841fa850b', 'encounters/cee4865c-9fe9-15e3-6d06-9d4461979032', 'encounters/bd79980a-3369-201c-d8c4-3e64a477aeac', 'encounters/727834df-f704-3800-a81f-faa2dbf65a8c', 'encounters/053968f8-a922-c190-5047-93db7fee22fb', 'encounters/08978b16-9807-8675-1e5f-182ad0a0d369', 'encounters/9ad14c96-d323-cd66-4bbd-3cbbce875482', 'encounters/190fe12f-74fe-90bd-2270-93389d4161be', 'encounters/72352bbe-391e-5599-80c1-e8ba83aa0b34', 'encounters/a157184f-b0fc-bb40-b1b0-5ddbf1a374f2', 'encounters/171b4fb2-88e4-0907-5475-2ec14ba405e5', 'encounters/7216fbff-b87d-82ec-30d9-e13757607e79', 'encounters/ade0dbdc-7b2c-d90a-407a-4f3dc40c793d', 'encounters/a4e66d3e-00ca-5fdb-dab2-833eadeea535', 'encounters/bdebff61-2f76-fb35-f094-e3077e56b340', 'encounters/8680d21f-66bd-4b8c-79a8-335eb2939a2c', 'encounters/84c34893-790f-809c-2df0-080bf48d3ac9', 'encounters/6baa7490-d19a-da2c-eeb0-b19113a0dc69', 'encounters/a480fa9a-d384-d6f7-8b0a-decfa8884a2b', 'encounters/3e01bf87-b7bf-f8a7-de56-91e30d36dc5c', 'encounters/7e0b1dc5-0d9b-c522-e748-aae81d0d25d2', 'encounters/8edbd7ee-3b32-43a0-fb44-fbddd9e93a7a', 'encounters/c4ad2730-7b26-5051-115c-1502cc25a7d7', 'encounters/8d3abdf5-1555-739d-8a26-c70a9f44477b', 'encounters/fa79cba3-cb80-2a6f-0ef6-c935ad89a213', 'encounters/5e0fb4d3-304a-f8fc-25c2-87595f590fba', 'encounters/045f8874-bacf-4b32-7ffa-fcabc3250847', 'encounters/6a5402d8-1681-b93c-fa55-fc53b0df5c4d', 'encounters/b21e2937-e0ba-e533-5665-da50089db20d', 'encounters/7974cb27-67f6-11fa-8e24-89a8839fd91c', 'encounters/2493b797-099c-ad02-6444-971118c2bad2', 'encounters/bbbee497-7b9d-3833-165b-051f6b14e904', 'encounters/f4787ec7-b938-dab1-0c0c-f3c340548414', 'encounters/52624d61-ad78-0b7f-3189-395ed73bca79', 'encounters/ffcc282e-4541-8d0a-6981-90730245cee7', 'encounters/723a267a-611f-8612-23f3-3ea6a9b890f1', 'encounters/0c9690f2-a40f-36d9-d40c-316267c51cba', 'encounters/f13be0d7-0fa7-b300-1fb9-b5e25258a60b', 'encounters/cd6d60e6-e839-5984-2cf0-6a54974c35bb', 'encounters/13d6816b-3269-21e1-ed0a-0b4a4c94ce53', 'encounters/4b22e6fc-7c45-14c6-4e9b-efaa037cf108', 'encounters/54c12e97-f354-96fc-f835-5b041fff9c5a', 'encounters/1730cdd6-bf35-5ccc-22b8-8742fafdd2b9', 'encounters/9209cb96-3801-0823-e5e3-c6d88493db70', 'encounters/8267dbbc-ac2c-6719-f4ec-650ad6c3af95', 'encounters/f24d40fb-a9aa-7d89-cc8e-1807c0a11b59', 'encounters/7d5ab326-4e4f-745c-3bee-4908dec4af56', 'encounters/a0e7e52c-60f2-c916-9a61-e46cc40b9736', 'encounters/5abd049d-13e8-3f8f-415d-d733c96c23d7', 'encounters/5ac5255d-bc12-f1e1-49b5-21d332ddd5d7', 'encounters/e0959179-c792-9d0a-6b41-b6405c39b6e4', 'encounters/256a9ff2-a3bb-393a-3199-45eb1d4bf4cd', 'encounters/1b137a15-f864-7a19-3fbe-120123cf737c', 'encounters/76daa264-26f2-82c4-2280-7303d5833554', 'encounters/01062d76-ae16-c582-e4b3-27fe519bdfa8', 'encounters/6e695094-6ca5-b17a-19b3-7fb92d25fee5', 'encounters/2076e7b8-70e7-fd91-35ec-ea26e09ffc86', 'encounters/6800c9e5-56de-da3e-6872-4c4e82284ec8', 'encounters/35211e6c-47d2-c382-3657-fe3b1735ae4a', 'encounters/9a3d3cbf-c720-5202-0ed3-e3cd83c18a78', 'encounters/e742b1d8-c4a3-7419-db2a-317efa260409', 'encounters/0432b637-2b09-2c9f-2f9c-181b9fe432ed', 'encounters/0d4a1532-4eef-42ba-891f-670398f21dd0', 'encounters/078b7faa-d3ad-4ca2-d849-dddef7a744e4', 'encounters/f7858826-3777-8e68-af6b-67a688f8f8c2', 'encounters/3f14cb0c-7e60-d88f-989a-3203e3103801', 'encounters/79be5df4-4bd6-cc8e-aa19-54512e7f6b76']), (1, ['patients/0213869d-8ae4-2a7c-40bd-9a80e9560189', 'encounters/a308ce7c-bbce-58b7-b0a9-37b15f944df9', 'encounters/f03ea397-e6a4-c48e-f01d-6832064106a7', 'encounters/29513edb-c41d-802e-dfc8-8d47809ab3e7', 'encounters/127d5e44-ce6f-b4a3-96fb-bb55305ff8be', 'encounters/82fd511e-6d2a-8f4d-e4e5-c66134cec8c9', 'encounters/cbe99052-592a-b756-282b-55c6170b6a50', 'encounters/a38c76ec-2f03-6a37-8821-615aa88d27b5', 'encounters/9bd7c760-2fed-cbf0-bb0c-6dee8daaad02', 'encounters/2de605c9-1302-b12a-be65-5bf9e0529862', 'encounters/60d88e50-ee37-463a-41c8-48a6f27b10ab', 'encounters/ef47a092-b9e7-7f1d-3ca4-faea4933ed4c', 'encounters/be46df4c-596b-ef85-b929-c5fdd1b94312', 'encounters/f182f51e-883e-ff5d-e8c7-8bf215b629c4', 'encounters/c16f31a7-634f-3e9c-1b7e-0eea790f1ab2', 'encounters/4a9baa54-aa36-ebef-7960-abc271628c98', 'encounters/f8f32d5e-b124-547c-6a83-fead33160659', 'encounters/21d23909-6d27-ea91-781c-475b8b627c35', 'encounters/fe2129b1-d439-c861-5a2e-79d00a385587', 'encounters/0bedef46-f749-3263-0f7a-3b6d63bc6ddb', 'encounters/db7486f9-14c1-6f5f-e139-f9779475bdbd', 'encounters/7b29bec5-fa35-686d-c3f9-e96618d16784', 'encounters/8b60dcf9-8db8-c473-0049-8c2f2e9d16fc', 'encounters/d144befe-bf6b-caff-38c1-79edb7ab8634', 'encounters/ea423f6c-d681-f97a-aa16-5475bfefac7d', 'encounters/eb5ef5fd-affe-2433-2855-65ccd119bf9e', 'encounters/733cf324-ff57-9e7e-4da8-5bc3e6f53b5f', 'encounters/18ff09cf-0442-4323-50fc-d749a47f6558', 'encounters/78c41927-5b4d-c5a5-e7f1-63cb177b24d0', 'encounters/5bd2b851-e8cb-b08f-6332-02543e9d5606', 'encounters/cac6176a-1961-f8f7-3ad7-3127d75f9ed6', 'encounters/4f7b2db3-03ae-0f34-885d-18c1bcc2ba6b', 'encounters/8cb430e5-881e-8048-555c-bb7bc9e3ab13', 'encounters/65a62a47-26a7-f6b2-6fa4-6008ee2817ff', 'encounters/5899eb8a-7139-9e5c-8192-4e334eca88ef', 'encounters/8d5839b6-dfb0-9f40-d911-47915fa7b615', 'encounters/41386df4-d02e-6e39-fcb8-5f54e7aa6393'])]\n",
            "Shortest Path (Single Source): 0.000 seconds\n",
            "Shortest path lengths from patients/01fd0320-1260-3613-95fb-7703f53e6a08: [('patients/01fd0320-1260-3613-95fb-7703f53e6a08', 0), ('encounters/dd606bd7-d284-099e-3161-558e11cd5058', 1), ('encounters/7f25a4aa-0fc7-9e17-1995-0063e9aac754', 1)]\n"
          ]
        }
      ],
      "source": [
        "import time\n",
        "from community import community_louvain\n",
        "\n",
        "# Function to time and run an algorithm\n",
        "def time_algorithm(name, func, *args, **kwargs):\n",
        "    start_time = time.time()\n",
        "    result = func(*args, **kwargs)\n",
        "    end_time = time.time()\n",
        "    runtime = end_time - start_time\n",
        "    print(f\"{name}: {runtime:.3f} seconds\")\n",
        "    return result\n",
        "\n",
        "# Test 1: Degree Centrality\n",
        "degree_centrality = time_algorithm(\n",
        "    \"Degree Centrality\",\n",
        "    nx.degree_centrality,\n",
        "    G\n",
        ")\n",
        "print(f\"Sample degree centrality: {list(degree_centrality.items())[:3]}\")\n",
        "\n",
        "# Test 2: Betweenness Centrality\n",
        "betweenness_centrality = time_algorithm(\n",
        "    \"Betweenness Centrality\",\n",
        "    nx.betweenness_centrality,\n",
        "    G\n",
        ")\n",
        "print(f\"Top 3 betweenness: {sorted(betweenness_centrality.items(), key=lambda x: x[1], reverse=True)[:3]}\")\n",
        "\n",
        "# Test 3: Closeness Centrality\n",
        "closeness_centrality = time_algorithm(\n",
        "    \"Closeness Centrality\",\n",
        "    nx.closeness_centrality,\n",
        "    G\n",
        ")\n",
        "print(f\"Sample closeness centrality: {list(closeness_centrality.items())[:3]}\")\n",
        "\n",
        "# Test 4: Louvain Community Detection (requires python-louvain)\n",
        "louvain_partition = time_algorithm(\n",
        "    \"Louvain Community Detection\",\n",
        "    community_louvain.best_partition,\n",
        "    G.to_undirected()  # Louvain needs undirected graph\n",
        ")\n",
        "communities = {}\n",
        "for node, comm_id in louvain_partition.items():\n",
        "    communities.setdefault(comm_id, []).append(node)\n",
        "print(f\"Number of communities: {len(communities)}, Sample: {list(communities.items())[:2]}\")\n",
        "\n",
        "# Test 5: Shortest Path (single source)\n",
        "source_node = next(iter(G.nodes))  # First node as source\n",
        "shortest_paths = time_algorithm(\n",
        "    \"Shortest Path (Single Source)\",\n",
        "    nx.shortest_path_length,\n",
        "    G,\n",
        "    source=source_node\n",
        ")\n",
        "print(f\"Shortest path lengths from {source_node}: {list(shortest_paths.items())[:3]}\")"
      ]
    }
  ],
  "metadata": {
    "accelerator": "GPU",
    "colab": {
      "gpuType": "T4",
      "provenance": []
    },
    "kernelspec": {
      "display_name": ".venv",
      "language": "python",
      "name": "python3"
    },
    "language_info": {
      "codemirror_mode": {
        "name": "ipython",
        "version": 3
      },
      "file_extension": ".py",
      "mimetype": "text/x-python",
      "name": "python",
      "nbconvert_exporter": "python",
      "pygments_lexer": "ipython3",
      "version": "3.12.4"
    }
  },
  "nbformat": 4,
  "nbformat_minor": 0
}
